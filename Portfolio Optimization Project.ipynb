{
 "cells": [
  {
   "cell_type": "code",
   "execution_count": null,
   "id": "052862f5",
   "metadata": {},
   "outputs": [],
   "source": [
    "#IN THIS PROJECT, I WILL DO THE FOLLOWING :\n",
    "#import two years of data for four stocks-from yahoo finance\n",
    "#Build initial portfolio with equal weighting to each\n",
    "#Analyze and visualize the equal-weighted portfolio \n",
    "\n",
    "\n",
    "\n"
   ]
  },
  {
   "cell_type": "code",
   "execution_count": 2,
   "id": "b1ab9523",
   "metadata": {},
   "outputs": [],
   "source": [
    "#import packages needed \n",
    "import numpy as np\n",
    "import pandas as pd\n",
    "import pandas_datareader as pdr\n",
    "import matplotlib.pyplot as plt\n",
    "%matplotlib inline"
   ]
  },
  {
   "cell_type": "code",
   "execution_count": 3,
   "id": "e99d3971",
   "metadata": {},
   "outputs": [],
   "source": [
    "#set start and end date parameters\n",
    "\n",
    "startdate='2019-01-01'\n",
    "enddate='2021-12-31'\n",
    "\n",
    "#list the four stock ticker symbols\n",
    "\n",
    "stock_list=['AMD', 'AAPL', 'MSFT', 'ORCL']\n",
    "\n",
    "#create an empty dict to store stock info\n",
    "stocks={}\n",
    "\n",
    "#loop through each stock in the stock_list and return adj close\n",
    "\n",
    "for i_stock in stock_list:\n",
    "    stocks[i_stock]=pdr.DataReader(i_stock, 'yahoo', startdate, enddate)[['Adj Close']]\n"
   ]
  },
  {
   "cell_type": "code",
   "execution_count": 4,
   "id": "c4ceda8d",
   "metadata": {},
   "outputs": [
    {
     "data": {
      "text/html": [
       "<div>\n",
       "<style scoped>\n",
       "    .dataframe tbody tr th:only-of-type {\n",
       "        vertical-align: middle;\n",
       "    }\n",
       "\n",
       "    .dataframe tbody tr th {\n",
       "        vertical-align: top;\n",
       "    }\n",
       "\n",
       "    .dataframe thead th {\n",
       "        text-align: right;\n",
       "    }\n",
       "</style>\n",
       "<table border=\"1\" class=\"dataframe\">\n",
       "  <thead>\n",
       "    <tr style=\"text-align: right;\">\n",
       "      <th></th>\n",
       "      <th>Adj Close</th>\n",
       "    </tr>\n",
       "    <tr>\n",
       "      <th>Date</th>\n",
       "      <th></th>\n",
       "    </tr>\n",
       "  </thead>\n",
       "  <tbody>\n",
       "    <tr>\n",
       "      <th>2019-01-02</th>\n",
       "      <td>18.830000</td>\n",
       "    </tr>\n",
       "    <tr>\n",
       "      <th>2019-01-03</th>\n",
       "      <td>17.049999</td>\n",
       "    </tr>\n",
       "    <tr>\n",
       "      <th>2019-01-04</th>\n",
       "      <td>19.000000</td>\n",
       "    </tr>\n",
       "    <tr>\n",
       "      <th>2019-01-07</th>\n",
       "      <td>20.570000</td>\n",
       "    </tr>\n",
       "    <tr>\n",
       "      <th>2019-01-08</th>\n",
       "      <td>20.750000</td>\n",
       "    </tr>\n",
       "  </tbody>\n",
       "</table>\n",
       "</div>"
      ],
      "text/plain": [
       "            Adj Close\n",
       "Date                 \n",
       "2019-01-02  18.830000\n",
       "2019-01-03  17.049999\n",
       "2019-01-04  19.000000\n",
       "2019-01-07  20.570000\n",
       "2019-01-08  20.750000"
      ]
     },
     "execution_count": 4,
     "metadata": {},
     "output_type": "execute_result"
    }
   ],
   "source": [
    "#Examine the 'AMD' ADJ close\n",
    "\n",
    "stocks['AMD'].head()"
   ]
  },
  {
   "cell_type": "code",
   "execution_count": 6,
   "id": "4bc841f1",
   "metadata": {},
   "outputs": [],
   "source": [
    "#Create 3 more columns\n",
    "\n",
    "#Create normalized return column for each stock\n",
    "\n",
    "for stock_name, stock_data in stocks.items():\n",
    "    first_adj_close=stock_data.iloc[0]['Adj Close']\n",
    "    stock_data['Normalized Return']=stock_data['Adj Close']/first_adj_close"
   ]
  },
  {
   "cell_type": "code",
   "execution_count": 7,
   "id": "5d563bf4",
   "metadata": {},
   "outputs": [
    {
     "data": {
      "text/html": [
       "<div>\n",
       "<style scoped>\n",
       "    .dataframe tbody tr th:only-of-type {\n",
       "        vertical-align: middle;\n",
       "    }\n",
       "\n",
       "    .dataframe tbody tr th {\n",
       "        vertical-align: top;\n",
       "    }\n",
       "\n",
       "    .dataframe thead th {\n",
       "        text-align: right;\n",
       "    }\n",
       "</style>\n",
       "<table border=\"1\" class=\"dataframe\">\n",
       "  <thead>\n",
       "    <tr style=\"text-align: right;\">\n",
       "      <th></th>\n",
       "      <th>Adj Close</th>\n",
       "      <th>Normalized Return</th>\n",
       "    </tr>\n",
       "    <tr>\n",
       "      <th>Date</th>\n",
       "      <th></th>\n",
       "      <th></th>\n",
       "    </tr>\n",
       "  </thead>\n",
       "  <tbody>\n",
       "    <tr>\n",
       "      <th>2019-01-02</th>\n",
       "      <td>38.105141</td>\n",
       "      <td>1.000000</td>\n",
       "    </tr>\n",
       "    <tr>\n",
       "      <th>2019-01-03</th>\n",
       "      <td>34.309589</td>\n",
       "      <td>0.900393</td>\n",
       "    </tr>\n",
       "    <tr>\n",
       "      <th>2019-01-04</th>\n",
       "      <td>35.774231</td>\n",
       "      <td>0.938830</td>\n",
       "    </tr>\n",
       "    <tr>\n",
       "      <th>2019-01-07</th>\n",
       "      <td>35.694614</td>\n",
       "      <td>0.936740</td>\n",
       "    </tr>\n",
       "    <tr>\n",
       "      <th>2019-01-08</th>\n",
       "      <td>36.375061</td>\n",
       "      <td>0.954597</td>\n",
       "    </tr>\n",
       "  </tbody>\n",
       "</table>\n",
       "</div>"
      ],
      "text/plain": [
       "            Adj Close  Normalized Return\n",
       "Date                                    \n",
       "2019-01-02  38.105141           1.000000\n",
       "2019-01-03  34.309589           0.900393\n",
       "2019-01-04  35.774231           0.938830\n",
       "2019-01-07  35.694614           0.936740\n",
       "2019-01-08  36.375061           0.954597"
      ]
     },
     "execution_count": 7,
     "metadata": {},
     "output_type": "execute_result"
    }
   ],
   "source": [
    "stocks['AAPL'].head()"
   ]
  },
  {
   "cell_type": "code",
   "execution_count": 8,
   "id": "4d10f4bc",
   "metadata": {},
   "outputs": [],
   "source": [
    "#create allocation for each stock-equally weighted in our initial portfolio\n",
    "\n",
    "\n",
    "for stock_name, stock_data in stocks.items():\n",
    "    stock_data['Allocation']=stock_data['Normalized Return']*.25"
   ]
  },
  {
   "cell_type": "code",
   "execution_count": 9,
   "id": "e9632b65",
   "metadata": {},
   "outputs": [
    {
     "data": {
      "text/html": [
       "<div>\n",
       "<style scoped>\n",
       "    .dataframe tbody tr th:only-of-type {\n",
       "        vertical-align: middle;\n",
       "    }\n",
       "\n",
       "    .dataframe tbody tr th {\n",
       "        vertical-align: top;\n",
       "    }\n",
       "\n",
       "    .dataframe thead th {\n",
       "        text-align: right;\n",
       "    }\n",
       "</style>\n",
       "<table border=\"1\" class=\"dataframe\">\n",
       "  <thead>\n",
       "    <tr style=\"text-align: right;\">\n",
       "      <th></th>\n",
       "      <th>Adj Close</th>\n",
       "      <th>Normalized Return</th>\n",
       "      <th>Allocation</th>\n",
       "    </tr>\n",
       "    <tr>\n",
       "      <th>Date</th>\n",
       "      <th></th>\n",
       "      <th></th>\n",
       "      <th></th>\n",
       "    </tr>\n",
       "  </thead>\n",
       "  <tbody>\n",
       "    <tr>\n",
       "      <th>2019-01-02</th>\n",
       "      <td>96.874702</td>\n",
       "      <td>1.000000</td>\n",
       "      <td>0.250000</td>\n",
       "    </tr>\n",
       "    <tr>\n",
       "      <th>2019-01-03</th>\n",
       "      <td>93.310860</td>\n",
       "      <td>0.963212</td>\n",
       "      <td>0.240803</td>\n",
       "    </tr>\n",
       "    <tr>\n",
       "      <th>2019-01-04</th>\n",
       "      <td>97.650688</td>\n",
       "      <td>1.008010</td>\n",
       "      <td>0.252003</td>\n",
       "    </tr>\n",
       "    <tr>\n",
       "      <th>2019-01-07</th>\n",
       "      <td>97.775230</td>\n",
       "      <td>1.009296</td>\n",
       "      <td>0.252324</td>\n",
       "    </tr>\n",
       "    <tr>\n",
       "      <th>2019-01-08</th>\n",
       "      <td>98.484169</td>\n",
       "      <td>1.016614</td>\n",
       "      <td>0.254153</td>\n",
       "    </tr>\n",
       "  </tbody>\n",
       "</table>\n",
       "</div>"
      ],
      "text/plain": [
       "            Adj Close  Normalized Return  Allocation\n",
       "Date                                                \n",
       "2019-01-02  96.874702           1.000000    0.250000\n",
       "2019-01-03  93.310860           0.963212    0.240803\n",
       "2019-01-04  97.650688           1.008010    0.252003\n",
       "2019-01-07  97.775230           1.009296    0.252324\n",
       "2019-01-08  98.484169           1.016614    0.254153"
      ]
     },
     "execution_count": 9,
     "metadata": {},
     "output_type": "execute_result"
    }
   ],
   "source": [
    "stocks['MSFT'].head()"
   ]
  },
  {
   "cell_type": "code",
   "execution_count": 10,
   "id": "3fb97bdb",
   "metadata": {},
   "outputs": [],
   "source": [
    "#set value of the portfolio to 10k\n",
    "\n",
    "\n",
    "for stock_name, stock_data in stocks.items():\n",
    "    stock_data['Position Value']=stock_data['Allocation']*10000"
   ]
  },
  {
   "cell_type": "code",
   "execution_count": 11,
   "id": "c771d8d9",
   "metadata": {},
   "outputs": [
    {
     "data": {
      "text/html": [
       "<div>\n",
       "<style scoped>\n",
       "    .dataframe tbody tr th:only-of-type {\n",
       "        vertical-align: middle;\n",
       "    }\n",
       "\n",
       "    .dataframe tbody tr th {\n",
       "        vertical-align: top;\n",
       "    }\n",
       "\n",
       "    .dataframe thead th {\n",
       "        text-align: right;\n",
       "    }\n",
       "</style>\n",
       "<table border=\"1\" class=\"dataframe\">\n",
       "  <thead>\n",
       "    <tr style=\"text-align: right;\">\n",
       "      <th></th>\n",
       "      <th>Adj Close</th>\n",
       "      <th>Normalized Return</th>\n",
       "      <th>Allocation</th>\n",
       "      <th>Position Value</th>\n",
       "    </tr>\n",
       "    <tr>\n",
       "      <th>Date</th>\n",
       "      <th></th>\n",
       "      <th></th>\n",
       "      <th></th>\n",
       "      <th></th>\n",
       "    </tr>\n",
       "  </thead>\n",
       "  <tbody>\n",
       "    <tr>\n",
       "      <th>2019-01-02</th>\n",
       "      <td>42.296158</td>\n",
       "      <td>1.000000</td>\n",
       "      <td>0.250000</td>\n",
       "      <td>2500.000000</td>\n",
       "    </tr>\n",
       "    <tr>\n",
       "      <th>2019-01-03</th>\n",
       "      <td>41.884602</td>\n",
       "      <td>0.990270</td>\n",
       "      <td>0.247567</td>\n",
       "      <td>2475.674135</td>\n",
       "    </tr>\n",
       "    <tr>\n",
       "      <th>2019-01-04</th>\n",
       "      <td>43.689800</td>\n",
       "      <td>1.032950</td>\n",
       "      <td>0.258237</td>\n",
       "      <td>2582.374056</td>\n",
       "    </tr>\n",
       "    <tr>\n",
       "      <th>2019-01-07</th>\n",
       "      <td>44.381962</td>\n",
       "      <td>1.049314</td>\n",
       "      <td>0.262329</td>\n",
       "      <td>2623.285665</td>\n",
       "    </tr>\n",
       "    <tr>\n",
       "      <th>2019-01-08</th>\n",
       "      <td>44.784157</td>\n",
       "      <td>1.058823</td>\n",
       "      <td>0.264706</td>\n",
       "      <td>2647.058213</td>\n",
       "    </tr>\n",
       "  </tbody>\n",
       "</table>\n",
       "</div>"
      ],
      "text/plain": [
       "            Adj Close  Normalized Return  Allocation  Position Value\n",
       "Date                                                                \n",
       "2019-01-02  42.296158           1.000000    0.250000     2500.000000\n",
       "2019-01-03  41.884602           0.990270    0.247567     2475.674135\n",
       "2019-01-04  43.689800           1.032950    0.258237     2582.374056\n",
       "2019-01-07  44.381962           1.049314    0.262329     2623.285665\n",
       "2019-01-08  44.784157           1.058823    0.264706     2647.058213"
      ]
     },
     "execution_count": 11,
     "metadata": {},
     "output_type": "execute_result"
    }
   ],
   "source": [
    "stocks['ORCL'].head()"
   ]
  },
  {
   "cell_type": "code",
   "execution_count": 12,
   "id": "0d897997",
   "metadata": {},
   "outputs": [],
   "source": [
    "#VISUALIZING THE PORTFOLIO  BY CREATING TWO LIE CHARTS THAT SHOW RETURN OF PORTFOLIO AND RETURN OF INDIV. STOCKS. \n",
    "\n",
    "#Create position_values dictionary. \n",
    "position_values={}\n",
    "\n",
    "for stock_name, stock_data in stocks.items():\n",
    "    position_values[stock_name]=stock_data['Position Value']"
   ]
  },
  {
   "cell_type": "code",
   "execution_count": 13,
   "id": "329115e8",
   "metadata": {},
   "outputs": [],
   "source": [
    "#Convert to DataFrame\n",
    "\n",
    "position_values=pd.DataFrame(data=position_values)"
   ]
  },
  {
   "cell_type": "code",
   "execution_count": 14,
   "id": "87fea230",
   "metadata": {},
   "outputs": [
    {
     "data": {
      "text/html": [
       "<div>\n",
       "<style scoped>\n",
       "    .dataframe tbody tr th:only-of-type {\n",
       "        vertical-align: middle;\n",
       "    }\n",
       "\n",
       "    .dataframe tbody tr th {\n",
       "        vertical-align: top;\n",
       "    }\n",
       "\n",
       "    .dataframe thead th {\n",
       "        text-align: right;\n",
       "    }\n",
       "</style>\n",
       "<table border=\"1\" class=\"dataframe\">\n",
       "  <thead>\n",
       "    <tr style=\"text-align: right;\">\n",
       "      <th></th>\n",
       "      <th>AMD</th>\n",
       "      <th>AAPL</th>\n",
       "      <th>MSFT</th>\n",
       "      <th>ORCL</th>\n",
       "    </tr>\n",
       "    <tr>\n",
       "      <th>Date</th>\n",
       "      <th></th>\n",
       "      <th></th>\n",
       "      <th></th>\n",
       "      <th></th>\n",
       "    </tr>\n",
       "  </thead>\n",
       "  <tbody>\n",
       "    <tr>\n",
       "      <th>2019-01-02</th>\n",
       "      <td>2500.000000</td>\n",
       "      <td>2500.000000</td>\n",
       "      <td>2500.000000</td>\n",
       "      <td>2500.000000</td>\n",
       "    </tr>\n",
       "    <tr>\n",
       "      <th>2019-01-03</th>\n",
       "      <td>2263.674895</td>\n",
       "      <td>2250.981677</td>\n",
       "      <td>2408.029581</td>\n",
       "      <td>2475.674135</td>\n",
       "    </tr>\n",
       "    <tr>\n",
       "      <th>2019-01-04</th>\n",
       "      <td>2522.570377</td>\n",
       "      <td>2347.073801</td>\n",
       "      <td>2520.025499</td>\n",
       "      <td>2582.374056</td>\n",
       "    </tr>\n",
       "    <tr>\n",
       "      <th>2019-01-07</th>\n",
       "      <td>2731.014309</td>\n",
       "      <td>2341.850323</td>\n",
       "      <td>2523.239502</td>\n",
       "      <td>2623.285665</td>\n",
       "    </tr>\n",
       "    <tr>\n",
       "      <th>2019-01-08</th>\n",
       "      <td>2754.912385</td>\n",
       "      <td>2386.493028</td>\n",
       "      <td>2541.534748</td>\n",
       "      <td>2647.058213</td>\n",
       "    </tr>\n",
       "  </tbody>\n",
       "</table>\n",
       "</div>"
      ],
      "text/plain": [
       "                    AMD         AAPL         MSFT         ORCL\n",
       "Date                                                          \n",
       "2019-01-02  2500.000000  2500.000000  2500.000000  2500.000000\n",
       "2019-01-03  2263.674895  2250.981677  2408.029581  2475.674135\n",
       "2019-01-04  2522.570377  2347.073801  2520.025499  2582.374056\n",
       "2019-01-07  2731.014309  2341.850323  2523.239502  2623.285665\n",
       "2019-01-08  2754.912385  2386.493028  2541.534748  2647.058213"
      ]
     },
     "execution_count": 14,
     "metadata": {},
     "output_type": "execute_result"
    }
   ],
   "source": [
    "position_values.head()"
   ]
  },
  {
   "cell_type": "code",
   "execution_count": 15,
   "id": "2ba7c359",
   "metadata": {},
   "outputs": [],
   "source": [
    "#add total column to position values, summing the other columns\n",
    "\n",
    "position_values['Total']=position_values.sum(axis=1)"
   ]
  },
  {
   "cell_type": "code",
   "execution_count": 16,
   "id": "7d41d3a7",
   "metadata": {},
   "outputs": [
    {
     "data": {
      "text/html": [
       "<div>\n",
       "<style scoped>\n",
       "    .dataframe tbody tr th:only-of-type {\n",
       "        vertical-align: middle;\n",
       "    }\n",
       "\n",
       "    .dataframe tbody tr th {\n",
       "        vertical-align: top;\n",
       "    }\n",
       "\n",
       "    .dataframe thead th {\n",
       "        text-align: right;\n",
       "    }\n",
       "</style>\n",
       "<table border=\"1\" class=\"dataframe\">\n",
       "  <thead>\n",
       "    <tr style=\"text-align: right;\">\n",
       "      <th></th>\n",
       "      <th>AMD</th>\n",
       "      <th>AAPL</th>\n",
       "      <th>MSFT</th>\n",
       "      <th>ORCL</th>\n",
       "      <th>Total</th>\n",
       "    </tr>\n",
       "    <tr>\n",
       "      <th>Date</th>\n",
       "      <th></th>\n",
       "      <th></th>\n",
       "      <th></th>\n",
       "      <th></th>\n",
       "      <th></th>\n",
       "    </tr>\n",
       "  </thead>\n",
       "  <tbody>\n",
       "    <tr>\n",
       "      <th>2019-01-02</th>\n",
       "      <td>2500.000000</td>\n",
       "      <td>2500.000000</td>\n",
       "      <td>2500.000000</td>\n",
       "      <td>2500.000000</td>\n",
       "      <td>10000.000000</td>\n",
       "    </tr>\n",
       "    <tr>\n",
       "      <th>2019-01-03</th>\n",
       "      <td>2263.674895</td>\n",
       "      <td>2250.981677</td>\n",
       "      <td>2408.029581</td>\n",
       "      <td>2475.674135</td>\n",
       "      <td>9398.360288</td>\n",
       "    </tr>\n",
       "    <tr>\n",
       "      <th>2019-01-04</th>\n",
       "      <td>2522.570377</td>\n",
       "      <td>2347.073801</td>\n",
       "      <td>2520.025499</td>\n",
       "      <td>2582.374056</td>\n",
       "      <td>9972.043733</td>\n",
       "    </tr>\n",
       "    <tr>\n",
       "      <th>2019-01-07</th>\n",
       "      <td>2731.014309</td>\n",
       "      <td>2341.850323</td>\n",
       "      <td>2523.239502</td>\n",
       "      <td>2623.285665</td>\n",
       "      <td>10219.389800</td>\n",
       "    </tr>\n",
       "    <tr>\n",
       "      <th>2019-01-08</th>\n",
       "      <td>2754.912385</td>\n",
       "      <td>2386.493028</td>\n",
       "      <td>2541.534748</td>\n",
       "      <td>2647.058213</td>\n",
       "      <td>10329.998375</td>\n",
       "    </tr>\n",
       "  </tbody>\n",
       "</table>\n",
       "</div>"
      ],
      "text/plain": [
       "                    AMD         AAPL         MSFT         ORCL         Total\n",
       "Date                                                                        \n",
       "2019-01-02  2500.000000  2500.000000  2500.000000  2500.000000  10000.000000\n",
       "2019-01-03  2263.674895  2250.981677  2408.029581  2475.674135   9398.360288\n",
       "2019-01-04  2522.570377  2347.073801  2520.025499  2582.374056   9972.043733\n",
       "2019-01-07  2731.014309  2341.850323  2523.239502  2623.285665  10219.389800\n",
       "2019-01-08  2754.912385  2386.493028  2541.534748  2647.058213  10329.998375"
      ]
     },
     "execution_count": 16,
     "metadata": {},
     "output_type": "execute_result"
    }
   ],
   "source": [
    "position_values.head()"
   ]
  },
  {
   "cell_type": "code",
   "execution_count": 18,
   "id": "c930db20",
   "metadata": {},
   "outputs": [
    {
     "data": {
      "image/png": "[encoded data removed]",
      "text/plain": [
       "<Figure size 1200x800 with 1 Axes>"
      ]
     },
     "metadata": {},
     "output_type": "display_data"
    }
   ],
   "source": [
    "#view total portfolio\n",
    "\n",
    "#set size of portfolio\n",
    "plt.figure(figsize=(12,8))\n",
    "plt.plot(position_values['Total'])\n",
    "plt.title('Equal Weighted Portfolio Performance')\n",
    "plt.ylabel('Total Value');"
   ]
  },
  {
   "cell_type": "code",
   "execution_count": 20,
   "id": "97af65cf",
   "metadata": {},
   "outputs": [
    {
     "data": {
      "image/png": "[encoded data removed]",
      "text/plain": [
       "<Figure size 1200x800 with 1 Axes>"
      ]
     },
     "metadata": {},
     "output_type": "display_data"
    }
   ],
   "source": [
    "#view the four stocks individually\n",
    "\n",
    "plt.figure(figsize=(12,8))\n",
    "plt.plot(position_values.iloc[:, 0:4])\n",
    "plt.title('Equal Weighted Portfolio Performance')\n",
    "plt.ylabel('Total Value');"
   ]
  },
  {
   "cell_type": "code",
   "execution_count": 21,
   "id": "2ca8959f",
   "metadata": {},
   "outputs": [],
   "source": [
    "#Calculating Performance Metrics for the Portfolio \n",
    "#Cumulative Return\n",
    "#Mean Daily Return\n",
    "#Standard Deviation Daily Return\n",
    "#Sharpe Ratio\n",
    "#Annualized Sharpe Ratio\n",
    "\n",
    "\n",
    "\n",
    "#define the end and start value of the portfolio to calculate cumulative reutnr\n",
    "\n",
    "end_value=position_values['Total'][-1]\n",
    "start_value=position_values['Total'][0]\n",
    "\n",
    "#calculate cumulative return\n",
    "\n",
    "cumulative_return=end_value/start_value-1"
   ]
  },
  {
   "cell_type": "code",
   "execution_count": 22,
   "id": "57259481",
   "metadata": {},
   "outputs": [
    {
     "name": "stdout",
     "output_type": "stream",
     "text": [
      "3.435342128605445\n"
     ]
    }
   ],
   "source": [
    "print(cumulative_return)"
   ]
  },
  {
   "cell_type": "code",
   "execution_count": 23,
   "id": "d37afd27",
   "metadata": {},
   "outputs": [],
   "source": [
    "#create a \"Daily Return\" column\n",
    "\n",
    "position_values['Daily Return']=position_values['Total'].pct_change()"
   ]
  },
  {
   "cell_type": "code",
   "execution_count": 24,
   "id": "67d7a917",
   "metadata": {},
   "outputs": [
    {
     "data": {
      "text/html": [
       "<div>\n",
       "<style scoped>\n",
       "    .dataframe tbody tr th:only-of-type {\n",
       "        vertical-align: middle;\n",
       "    }\n",
       "\n",
       "    .dataframe tbody tr th {\n",
       "        vertical-align: top;\n",
       "    }\n",
       "\n",
       "    .dataframe thead th {\n",
       "        text-align: right;\n",
       "    }\n",
       "</style>\n",
       "<table border=\"1\" class=\"dataframe\">\n",
       "  <thead>\n",
       "    <tr style=\"text-align: right;\">\n",
       "      <th></th>\n",
       "      <th>AMD</th>\n",
       "      <th>AAPL</th>\n",
       "      <th>MSFT</th>\n",
       "      <th>ORCL</th>\n",
       "      <th>Total</th>\n",
       "      <th>Daily Return</th>\n",
       "    </tr>\n",
       "    <tr>\n",
       "      <th>Date</th>\n",
       "      <th></th>\n",
       "      <th></th>\n",
       "      <th></th>\n",
       "      <th></th>\n",
       "      <th></th>\n",
       "      <th></th>\n",
       "    </tr>\n",
       "  </thead>\n",
       "  <tbody>\n",
       "    <tr>\n",
       "      <th>2019-01-02</th>\n",
       "      <td>2500.000000</td>\n",
       "      <td>2500.000000</td>\n",
       "      <td>2500.000000</td>\n",
       "      <td>2500.000000</td>\n",
       "      <td>10000.000000</td>\n",
       "      <td>NaN</td>\n",
       "    </tr>\n",
       "    <tr>\n",
       "      <th>2019-01-03</th>\n",
       "      <td>2263.674895</td>\n",
       "      <td>2250.981677</td>\n",
       "      <td>2408.029581</td>\n",
       "      <td>2475.674135</td>\n",
       "      <td>9398.360288</td>\n",
       "      <td>-0.060164</td>\n",
       "    </tr>\n",
       "    <tr>\n",
       "      <th>2019-01-04</th>\n",
       "      <td>2522.570377</td>\n",
       "      <td>2347.073801</td>\n",
       "      <td>2520.025499</td>\n",
       "      <td>2582.374056</td>\n",
       "      <td>9972.043733</td>\n",
       "      <td>0.061041</td>\n",
       "    </tr>\n",
       "    <tr>\n",
       "      <th>2019-01-07</th>\n",
       "      <td>2731.014309</td>\n",
       "      <td>2341.850323</td>\n",
       "      <td>2523.239502</td>\n",
       "      <td>2623.285665</td>\n",
       "      <td>10219.389800</td>\n",
       "      <td>0.024804</td>\n",
       "    </tr>\n",
       "    <tr>\n",
       "      <th>2019-01-08</th>\n",
       "      <td>2754.912385</td>\n",
       "      <td>2386.493028</td>\n",
       "      <td>2541.534748</td>\n",
       "      <td>2647.058213</td>\n",
       "      <td>10329.998375</td>\n",
       "      <td>0.010823</td>\n",
       "    </tr>\n",
       "  </tbody>\n",
       "</table>\n",
       "</div>"
      ],
      "text/plain": [
       "                    AMD         AAPL         MSFT         ORCL         Total  \\\n",
       "Date                                                                           \n",
       "2019-01-02  2500.000000  2500.000000  2500.000000  2500.000000  10000.000000   \n",
       "2019-01-03  2263.674895  2250.981677  2408.029581  2475.674135   9398.360288   \n",
       "2019-01-04  2522.570377  2347.073801  2520.025499  2582.374056   9972.043733   \n",
       "2019-01-07  2731.014309  2341.850323  2523.239502  2623.285665  10219.389800   \n",
       "2019-01-08  2754.912385  2386.493028  2541.534748  2647.058213  10329.998375   \n",
       "\n",
       "            Daily Return  \n",
       "Date                      \n",
       "2019-01-02           NaN  \n",
       "2019-01-03     -0.060164  \n",
       "2019-01-04      0.061041  \n",
       "2019-01-07      0.024804  \n",
       "2019-01-08      0.010823  "
      ]
     },
     "execution_count": 24,
     "metadata": {},
     "output_type": "execute_result"
    }
   ],
   "source": [
    "position_values.head()"
   ]
  },
  {
   "cell_type": "code",
   "execution_count": 25,
   "id": "af3b70b0",
   "metadata": {},
   "outputs": [],
   "source": [
    "#calculate mean\n",
    "\n",
    "mean_daily_return=position_values['Daily Return'].mean()"
   ]
  },
  {
   "cell_type": "code",
   "execution_count": 26,
   "id": "e48a53ea",
   "metadata": {},
   "outputs": [
    {
     "name": "stdout",
     "output_type": "stream",
     "text": [
      "The mean daily return is; 0.00218565077121821\n"
     ]
    }
   ],
   "source": [
    "print('The mean daily return is;', str(mean_daily_return))"
   ]
  },
  {
   "cell_type": "code",
   "execution_count": 27,
   "id": "d7e7a664",
   "metadata": {},
   "outputs": [],
   "source": [
    "#calculate the standard devation of Daily Return\n",
    "std_daily_return=position_values['Daily Return'].std()"
   ]
  },
  {
   "cell_type": "code",
   "execution_count": 28,
   "id": "8298f59c",
   "metadata": {},
   "outputs": [
    {
     "name": "stdout",
     "output_type": "stream",
     "text": [
      "The standard deviation of the Daily Return is: 0.020667540331406473\n"
     ]
    }
   ],
   "source": [
    "print('The standard deviation of the Daily Return is:', str(std_daily_return))"
   ]
  },
  {
   "cell_type": "code",
   "execution_count": 29,
   "id": "a0210330",
   "metadata": {},
   "outputs": [
    {
     "data": {
      "text/plain": [
       "0.1057528247760033"
      ]
     },
     "execution_count": 29,
     "metadata": {},
     "output_type": "execute_result"
    }
   ],
   "source": [
    "#calcuate sharpe ration. sharpe ratio is a rick-adjusted return metric. \n",
    "sharpe_ratio=mean_daily_return /std_daily_return\n",
    "sharpe_ratio"
   ]
  },
  {
   "cell_type": "code",
   "execution_count": 31,
   "id": "000d2ea3",
   "metadata": {},
   "outputs": [
    {
     "data": {
      "text/plain": [
       "1.6787740487993679"
      ]
     },
     "execution_count": 31,
     "metadata": {},
     "output_type": "execute_result"
    }
   ],
   "source": [
    "#calculate the annualized sharpe ratio\n",
    "sharpe_ratio_annualized=sharpe_ratio*252**0.5\n",
    "sharpe_ratio_annualized"
   ]
  },
  {
   "cell_type": "code",
   "execution_count": 38,
   "id": "f05b3908",
   "metadata": {},
   "outputs": [],
   "source": [
    "#PREPARE SCENARIOS TO OPTIMIZE PORTFOLIO \n",
    "\n",
    "#create a dict containing the adjusted close for each stock\n",
    "stock_adj_close = {}"
   ]
  },
  {
   "cell_type": "code",
   "execution_count": 41,
   "id": "c1454db6",
   "metadata": {},
   "outputs": [],
   "source": [
    "for stock_name, stock_data in stocks.items():\n",
    "    stock_adj_close[stock_name] = stock_data['Adj Close']"
   ]
  },
  {
   "cell_type": "code",
   "execution_count": 42,
   "id": "0838615f",
   "metadata": {},
   "outputs": [],
   "source": [
    "stock_adj_close = pd.DataFrame(data=stock_adj_close)"
   ]
  },
  {
   "cell_type": "code",
   "execution_count": 43,
   "id": "3d2bf33a",
   "metadata": {},
   "outputs": [
    {
     "data": {
      "text/html": [
       "<div>\n",
       "<style scoped>\n",
       "    .dataframe tbody tr th:only-of-type {\n",
       "        vertical-align: middle;\n",
       "    }\n",
       "\n",
       "    .dataframe tbody tr th {\n",
       "        vertical-align: top;\n",
       "    }\n",
       "\n",
       "    .dataframe thead th {\n",
       "        text-align: right;\n",
       "    }\n",
       "</style>\n",
       "<table border=\"1\" class=\"dataframe\">\n",
       "  <thead>\n",
       "    <tr style=\"text-align: right;\">\n",
       "      <th></th>\n",
       "      <th>AMD</th>\n",
       "      <th>AAPL</th>\n",
       "      <th>MSFT</th>\n",
       "      <th>ORCL</th>\n",
       "    </tr>\n",
       "    <tr>\n",
       "      <th>Date</th>\n",
       "      <th></th>\n",
       "      <th></th>\n",
       "      <th></th>\n",
       "      <th></th>\n",
       "    </tr>\n",
       "  </thead>\n",
       "  <tbody>\n",
       "    <tr>\n",
       "      <th>2019-01-02</th>\n",
       "      <td>18.830000</td>\n",
       "      <td>38.105141</td>\n",
       "      <td>96.874702</td>\n",
       "      <td>42.296158</td>\n",
       "    </tr>\n",
       "    <tr>\n",
       "      <th>2019-01-03</th>\n",
       "      <td>17.049999</td>\n",
       "      <td>34.309589</td>\n",
       "      <td>93.310860</td>\n",
       "      <td>41.884602</td>\n",
       "    </tr>\n",
       "    <tr>\n",
       "      <th>2019-01-04</th>\n",
       "      <td>19.000000</td>\n",
       "      <td>35.774231</td>\n",
       "      <td>97.650688</td>\n",
       "      <td>43.689800</td>\n",
       "    </tr>\n",
       "    <tr>\n",
       "      <th>2019-01-07</th>\n",
       "      <td>20.570000</td>\n",
       "      <td>35.694614</td>\n",
       "      <td>97.775230</td>\n",
       "      <td>44.381962</td>\n",
       "    </tr>\n",
       "    <tr>\n",
       "      <th>2019-01-08</th>\n",
       "      <td>20.750000</td>\n",
       "      <td>36.375061</td>\n",
       "      <td>98.484169</td>\n",
       "      <td>44.784157</td>\n",
       "    </tr>\n",
       "  </tbody>\n",
       "</table>\n",
       "</div>"
      ],
      "text/plain": [
       "                  AMD       AAPL       MSFT       ORCL\n",
       "Date                                                  \n",
       "2019-01-02  18.830000  38.105141  96.874702  42.296158\n",
       "2019-01-03  17.049999  34.309589  93.310860  41.884602\n",
       "2019-01-04  19.000000  35.774231  97.650688  43.689800\n",
       "2019-01-07  20.570000  35.694614  97.775230  44.381962\n",
       "2019-01-08  20.750000  36.375061  98.484169  44.784157"
      ]
     },
     "execution_count": 43,
     "metadata": {},
     "output_type": "execute_result"
    }
   ],
   "source": [
    "stock_adj_close.head()"
   ]
  },
  {
   "cell_type": "code",
   "execution_count": 44,
   "id": "2bf3bee9",
   "metadata": {},
   "outputs": [],
   "source": [
    "#create another dict DataFrame to see day over day change \n",
    "\n",
    "stock_returns = stock_adj_close.pct_change()"
   ]
  },
  {
   "cell_type": "code",
   "execution_count": 45,
   "id": "694a54d4",
   "metadata": {},
   "outputs": [
    {
     "data": {
      "text/html": [
       "<div>\n",
       "<style scoped>\n",
       "    .dataframe tbody tr th:only-of-type {\n",
       "        vertical-align: middle;\n",
       "    }\n",
       "\n",
       "    .dataframe tbody tr th {\n",
       "        vertical-align: top;\n",
       "    }\n",
       "\n",
       "    .dataframe thead th {\n",
       "        text-align: right;\n",
       "    }\n",
       "</style>\n",
       "<table border=\"1\" class=\"dataframe\">\n",
       "  <thead>\n",
       "    <tr style=\"text-align: right;\">\n",
       "      <th></th>\n",
       "      <th>AMD</th>\n",
       "      <th>AAPL</th>\n",
       "      <th>MSFT</th>\n",
       "      <th>ORCL</th>\n",
       "    </tr>\n",
       "    <tr>\n",
       "      <th>Date</th>\n",
       "      <th></th>\n",
       "      <th></th>\n",
       "      <th></th>\n",
       "      <th></th>\n",
       "    </tr>\n",
       "  </thead>\n",
       "  <tbody>\n",
       "    <tr>\n",
       "      <th>2019-01-02</th>\n",
       "      <td>NaN</td>\n",
       "      <td>NaN</td>\n",
       "      <td>NaN</td>\n",
       "      <td>NaN</td>\n",
       "    </tr>\n",
       "    <tr>\n",
       "      <th>2019-01-03</th>\n",
       "      <td>-0.094530</td>\n",
       "      <td>-0.099607</td>\n",
       "      <td>-0.036788</td>\n",
       "      <td>-0.009730</td>\n",
       "    </tr>\n",
       "    <tr>\n",
       "      <th>2019-01-04</th>\n",
       "      <td>0.114370</td>\n",
       "      <td>0.042689</td>\n",
       "      <td>0.046509</td>\n",
       "      <td>0.043099</td>\n",
       "    </tr>\n",
       "    <tr>\n",
       "      <th>2019-01-07</th>\n",
       "      <td>0.082632</td>\n",
       "      <td>-0.002226</td>\n",
       "      <td>0.001275</td>\n",
       "      <td>0.015843</td>\n",
       "    </tr>\n",
       "    <tr>\n",
       "      <th>2019-01-08</th>\n",
       "      <td>0.008751</td>\n",
       "      <td>0.019063</td>\n",
       "      <td>0.007251</td>\n",
       "      <td>0.009062</td>\n",
       "    </tr>\n",
       "  </tbody>\n",
       "</table>\n",
       "</div>"
      ],
      "text/plain": [
       "                 AMD      AAPL      MSFT      ORCL\n",
       "Date                                              \n",
       "2019-01-02       NaN       NaN       NaN       NaN\n",
       "2019-01-03 -0.094530 -0.099607 -0.036788 -0.009730\n",
       "2019-01-04  0.114370  0.042689  0.046509  0.043099\n",
       "2019-01-07  0.082632 -0.002226  0.001275  0.015843\n",
       "2019-01-08  0.008751  0.019063  0.007251  0.009062"
      ]
     },
     "execution_count": 45,
     "metadata": {},
     "output_type": "execute_result"
    }
   ],
   "source": [
    "stock_returns.head()"
   ]
  },
  {
   "cell_type": "code",
   "execution_count": null,
   "id": "719bbcc8",
   "metadata": {},
   "outputs": [],
   "source": []
  },
  {
   "cell_type": "code",
   "execution_count": null,
   "id": "cff8344a",
   "metadata": {},
   "outputs": [],
   "source": []
  }
 ],
 "metadata": {
  "kernelspec": {
   "display_name": "Python 3 (ipykernel)",
   "language": "python",
   "name": "python3"
  },
  "language_info": {
   "codemirror_mode": {
    "name": "ipython",
    "version": 3
   },
   "file_extension": ".py",
   "mimetype": "text/x-python",
   "name": "python",
   "nbconvert_exporter": "python",
   "pygments_lexer": "ipython3",
   "version": "3.9.13"
  }
 },
 "nbformat": 4,
 "nbformat_minor": 5
}
